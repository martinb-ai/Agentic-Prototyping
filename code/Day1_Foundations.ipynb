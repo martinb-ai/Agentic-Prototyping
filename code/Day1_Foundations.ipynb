{
 "cells": [
  {
   "cell_type": "markdown",
   "metadata": {},
   "source": [
    "# Day 1: Foundations - Hands-On Notebook\n",
    "\n",
    "Welcome to the Day 1 hands-on notebook! Here, you will apply the concepts you've learned about the OpenAI API, prompt engineering, and agent design."
   ]
  },
  {
   "cell_type": "markdown",
   "metadata": {},
   "source": [
    "## Activity 1: Setup and First API Call\n",
    "\n",
    "First, let's set up our environment. Make sure you have the `openai` library installed (`pip install openai`) and your `OPENAI_API_KEY` environment variable is set."
   ]
  },
  {
   "cell_type": "code",
   "execution_count": null,
   "metadata": {},
   "outputs": [],
   "source": [
    "import os\n",
    "from openai import OpenAI\n",
    "\n",
    "# The OpenAI client uses the OPENAI_API_KEY environment variable by default.\n",
    "client = OpenAI()\n",
    "\n",
    "print(\"OpenAI client initialized successfully!\")"
   ]
  },
  {
   "cell_type": "markdown",
   "metadata": {},
   "source": [
    "Now, let's make our first API call to generate a piece of text."
   ]
  },
  {
   "cell_type": "code",
   "execution_count": null,
   "metadata": {},
   "outputs": [],
   "source": [
    "response = client.chat.completions.create(\n",
    "    model=\"gpt-4.1\",\n",
    "    messages=[{\"role\": \"user\", \"content\": \"Write a tagline for a coffee shop on the moon.\"}]\n",
    ")\n",
    "\n",
    "print(response.choices[0].message.content)"
   ]
  },
  {
   "cell_type": "markdown",
   "metadata": {},
   "source": [
    "## Activity 2: Prompt Engineering in Action\n",
    "\n",
    "Let's experiment with providing more detailed instructions to the model. We'll create a simple sentiment classifier using few-shot prompting."
   ]
  },
  {
   "cell_type": "code",
   "execution_count": null,
   "metadata": {},
   "outputs": [],
   "source": [
    "developer_prompt = \"\"\"\n",
    "You are a master sentiment analyst. Classify the user's review into one of three categories: Positive, Negative, or Neutral.\n",
    "Respond with only a single word.\n",
    "\n",
    "---\n",
    "Review: The service was incredibly fast and the food was delicious!\n",
    "Sentiment: Positive\n",
    "---\n",
    "Review: I had to wait 45 minutes for my order and it was cold.\n",
    "Sentiment: Negative\n",
    "---\n",
    "Review: The restaurant is in a convenient location.\n",
    "Sentiment: Neutral\n",
    "\"\"\"\n",
    "\n",
    "user_review = \"The coffee was a bit burnt, but the croissant was perfect.\"\n",
    "\n",
    "response = client.chat.completions.create(\n",
    "    model=\"gpt-4.1\",\n",
    "    messages=[\n",
    "        {\"role\": \"system\", \"content\": developer_prompt},\n",
    "        {\"role\": \"user\", \"content\": f\"Review: {user_review}\
Sentiment:\"}\n",
    "    ]\n",
    ")\n",
    "\n",
    "print(f\"Review: '{user_review}'\nClassified as: {response.choices[0].message.content}\")"
   ]
  },
  {
   "cell_type": "markdown",
   "metadata": {},
   "source": [
    "### Your Turn!\n",
    "\n",
    "Modify the `developer_prompt` and `user_review` to test other scenarios. For example, try creating a prompt that extracts specific information (like a product name and price) from a user's message."
   ]
  },
  {
   "cell_type": "code",
   "execution_count": null,
   "metadata": {},
   "outputs": [],
   "source": [
    "# Your code here\n",
    "# 1. Define a new developer_prompt for information extraction.\n",
    "# 2. Provide a new user_message to test it.\n",
    "# 3. Call the API and print the result."
   ]
  },
  {
   "cell_type": "markdown",
   "metadata": {},
   "source": [
    "## Activity 3: Agent Design - PRD and Model Selection\n",
    "\n",
    "This activity is for discussion and documentation. In the cells below, use markdown to fill out the PRD and Model Selection worksheet for the agent your team designed."
   ]
  },
  {
   "cell_type": "markdown",
   "metadata": {},
   "source": [
    "### Agent Product Requirements Document (PRD)\n",
    "\n",
    "**A. Project/Agent Name:**\n",
    "*Your Answer Here*\n",
    "\n",
    "**B. Problem Statement:**\n",
    "*Your Answer Here*\n",
    "\n",
    "**C. Target Users / Stakeholders:**\n",
    "*Your Answer Here*\n",
    "\n",
    "**D. User Stories / Sample Prompts:**\n",
    "*Your Answer Here*\n",
    "\n",
    "**E. Key Capabilities (MVP):**\n",
    "*Your Answer Here*\n",
    "\n",
    "**F. Guardrails / Risks / Constraints:**\n",
    "*Your Answer Here*\n",
    "\n",
    "**G. Success Metrics / KPIs:**\n",
    "*Your Answer Here*\n",
    "\n",
    "**I. Initial System/Assistant Instructions:**\n",
    "*Your Answer Here*"
   ]
  },
  {
   "cell_type": "markdown",
   "metadata": {},
   "source": [
    "### LLM Model Selection Worksheet\n",
    "\n",
    "| Criteria                   | Option 1 (e.g. GPT-4.1) | Option 2 (e.g. o4-mini) | Notes & Justification for Your Choice |\n",
    "|----------------------------|-------------------------|-------------------------|---------------------------------------|\n",
    "| **Accuracy/Reasoning**     |                         |                         | *Your notes here* |\n",
    "| **Speed/Latency**          |                         |                         | *Your notes here* |\n",
    "| **Cost**                   |                         |                         | *Your notes here* |\n",
    "| **Context Length**         |                         |                         | *Your notes here* |\n",
    "| **Required Features**      |                         |                         | *Your notes here* |\n",
    "\n",
    "**Final Decision & Rationale:**\n",
    "*Your Answer Here*"
   ]
  }
 ],
 "metadata": {
  "kernelspec": {
   "display_name": "Python 3",
   "language": "python",
   "name": "python3"
  },
  "language_info": {
   "codemirror_mode": {
    "name": "ipython",
    "version": 3
   },
   "file_extension": ".py",
   "mimetype": "text/x-python",
   "name": "python",
   "nbconvert_exporter": "python",
   "pygments_lexer": "ipython3",
   "version": "3.10.0"
  }
 },
 "nbformat": 4,
 "nbformat_minor": 4
}
