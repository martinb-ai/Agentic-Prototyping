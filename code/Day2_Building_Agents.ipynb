{
 "cells": [
  {
   "cell_type": "markdown",
   "metadata": {},
   "source": [
    "# Day 2: Building Agents - Hands-On Notebook\n",
    "\n",
    "Welcome to the Day 2 hands-on notebook! Today, we will dive into the OpenAI Agents SDK to build and orchestrate agents."
   ]
  },
  {
   "cell_type": "markdown",
   "metadata": {},
   "source": [
    "## Activity 1: Your First SDK Agent & Conversational State\n",
    "\n",
    "First, ensure you have the `openai-agents` library installed (`pip install openai-agents`)."
   ]
  },
  {
   "cell_type": "code",
   "execution_count": null,
   "metadata": {},
   "outputs": [],
   "source": [
    "!pip install openai-agents -q"
   ]
  },
  {
   "cell_type": "code",
   "execution_count": null,
   "metadata": {},
   "outputs": [],
   "source": [
    "from agents import Agent, Runner\n",
    "import asyncio\n",
    "\n",
    "# Define a simple agent\n",
    "math_tutor_agent = Agent(\n",
    "    name=\"Math Tutor\",\n",
    "    instructions=\"You are a friendly math tutor. You help students understand math concepts by explaining them clearly and providing examples.\"\n",
    ")\n",
    "\n",
    "async def run_agent():\n",
    "    # Run the agent with an initial prompt\n",
    "    result = await Runner.run(math_tutor_agent, \"Can you explain the Pythagorean theorem?\")\n",
    "    print(f\"[Tutor]: {result.final_output}\")\n",
    "\n",
    "    # Now, let's handle conversational state by feeding the history back in\n",
    "    conversation_history = result.to_input_list()\n",
    "    conversation_history.append({\"role\": \"user\", \"content\": \"Can you give me an example?\"})\n",
    "\n",
    "    follow_up_result = await Runner.run(math_tutor_agent, conversation_history)\n",
    "    print(f\"[Tutor]: {follow_up_result.final_output}\")\n",
    "\n",
    "# In a Jupyter Notebook, you can run the async function like this:\n",
    "await run_agent()"
   ]
  },
  {
   "cell_type": "markdown",
   "metadata": {},
   "source": [
    "## Activity 2: Empowering Agents with Tools\n",
    "\n",
    "Let's give our agent a tool to perform a specific action. We'll create a simple calculator tool."
   ]
  },
  {
   "cell_type": "code",
   "execution_count": null,
   "metadata": {},
   "outputs": [],
   "source": [
    "from agents import function_tool\n",
    "\n",
    "@function_tool\n",
    "def simple_calculator(expression: str) -> str:\n",
    "    \"\"Calculates the result of a simple mathematical expression (e.g., '5*3').\"\"\n",
    "    try:\n",
    "        # WARNING: eval is not safe for production use with untrusted input!\n",
    "        # This is for demonstration purposes only.\n",
    "        return str(eval(expression))\n",
    "    except Exception as e:\n",
    "        return f\"Error: {e}\"\n",
    "\n",
    "# Create an agent with the tool\n",
    "calculator_agent = Agent(\n",
    "    name=\"Calculator Agent\",\n",
    "    instructions=\"You are a helpful assistant with a calculator. When asked to compute something, use your calculator tool.\",\n",
    "    tools=[simple_calculator]\n",
    ")\n",
    "\n",
    "async def run_calculator_agent():\n",
    "    result = await Runner.run(calculator_agent, \"What is 125 * 8?\")\n",
    "    print(result.final_output)\n",
    "\n",
    "await run_calculator_agent()"
   ]
  },
  {
   "cell_type": "markdown",
   "metadata": {},
   "source": [
    "## Activity 3: Designing a Multi-Agent System\n",
    "\n",
    "Now, let's build a system where a triage agent hands off tasks to specialized agents."
   ]
  },
  {
   "cell_type": "code",
   "execution_count": null,
   "metadata": {},
   "outputs": [],
   "source": [
    "# Specialist Agents\n",
    "shipping_agent = Agent(\n",
    "    name=\"Shipping Specialist\",\n",
    "    instructions=\"You are an expert on package tracking and shipping logistics. You can provide tracking updates and delivery estimates.\"\n",
    ")\n",
    "\n",
    "product_agent = Agent(\n",
    "    name=\"Product Specialist\",\n",
    "    instructions=\"You have deep knowledge of the company's product catalog. You can answer questions about product features, specifications, and availability.\"\n",
    ")\n",
    "\n",
    "# Triage Agent with Handoffs\n",
    "triage_agent = Agent(\n",
    "    name=\"Triage Agent\",\n",
    "    instructions=\"You are the first point of contact. Understand the user's needs and hand them off to the correct specialist: either the Shipping Specialist or the Product Specialist.\",\n",
    "    handoffs=[shipping_agent, product_agent]\n",
    ")\n",
    "\n",
    "async def run_triage():\n",
    "    # Test a shipping query\n",
    "    shipping_query = \"Where is my package with tracking number 12345XYZ?\"\n",
    "    result1 = await Runner.run(triage_agent, shipping_query)\n",
    "    print(f\"Query: '{shipping_query}'\")\n",
    "    print(f\"Handed off to: {result1.last_agent.name}\")\n",
    "    print(f\"Final Response: {result1.final_output}\n\")\n",
    "\n",
    "    # Test a product query\n",
    "    product_query = \"Does the new X-100 model have bluetooth?\"\n",
    "    result2 = await Runner.run(triage_agent, product_query)\n",
    "    print(f\"Query: '{product_query}'\")\n",
    "    print(f\"Handed off to: {result2.last_agent.name}\")\n",
    "    print(f\"Final Response: {result2.final_output}\")\n",
    "\n",
    "await run_triage()"
   ]
  },
  {
   "cell_type": "markdown",
   "metadata": {},
   "source": [
    "## Activity 4: Visualize Your Agent Architecture\n",
    "\n",
    "Let's visualize the multi-agent system we just created."
   ]
  },
  {
   "cell_type": "code",
   "execution_count": null,
   "metadata": {},
   "outputs": [],
   "source": [
    "!pip install \"openai-agents[viz]\" -q\n",
    "\n",
    "from agents.extensions.visualization import draw_graph\n",
    "\n",
    "# Add a tool to one of the specialists for a more interesting graph\n",
    "@function_tool\n",
    "def get_tracking_status(tracking_number: str) -> str:\n",
    "    \"\"Gets the status of a shipping package.\"\"\n",
    "    return f\"Package {tracking_number} is currently in transit in a different castle.\"\n",
    "\n",
    "shipping_agent_with_tool = shipping_agent.clone(tools=[get_tracking_status])\n",
    "\n",
    "# Recreate the triage agent with the updated specialist\n",
    "triage_agent_for_viz = Agent(\n",
    "    name=\"Triage Agent\",\n",
    "    instructions=\"You are the first point of contact. Understand the user's needs and hand them off to the correct specialist.\",\n",
    "    handoffs=[shipping_agent_with_tool, product_agent]\n",
    ")\n",
    "\n",
    "# Generate and display the graph\n",
    "graph = draw_graph(triage_agent_for_viz)\n",
    "graph\n",
    "\n",
    "# You can also save it to a file\n",
    "# graph.render('triage_agent_architecture', format='png', view=False)\n",
    "# print(\"Graph saved to triage_agent_architecture.png\")"
   ]
  }
 ],
 "metadata": {
  "kernelspec": {
   "display_name": "Python 3",
   "language": "python",
   "name": "python3"
  },
  "language_info": {
   "codemirror_mode": {
    "name": "ipython",
    "version": 3
   },
   "file_extension": ".py",
   "mimetype": "text/x-python",
   "name": "python",
   "nbconvert_exporter": "python",
   "pygments_lexer": "ipython3",
   "version": "3.10.0"
  }
 },
 "nbformat": 4,
 "nbformat_minor": 4
}